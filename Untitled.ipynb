{
 "cells": [
  {
   "cell_type": "code",
   "execution_count": 15,
   "id": "ac2f7568",
   "metadata": {},
   "outputs": [],
   "source": [
    "import numpy as np\n",
    "dt_names = np.load(\"dt_names.npy\")"
   ]
  },
  {
   "cell_type": "code",
   "execution_count": 16,
   "id": "05b68a0c",
   "metadata": {},
   "outputs": [
    {
     "data": {
      "text/plain": [
       "9"
      ]
     },
     "execution_count": 16,
     "metadata": {},
     "output_type": "execute_result"
    }
   ],
   "source": [
    "len(dt_names)"
   ]
  },
  {
   "cell_type": "code",
   "execution_count": 19,
   "id": "b1b97d02",
   "metadata": {},
   "outputs": [
    {
     "data": {
      "text/plain": [
       "'GOPR0302U20_imputed.txt'"
      ]
     },
     "execution_count": 19,
     "metadata": {},
     "output_type": "execute_result"
    }
   ],
   "source": [
    "dt_names[1]"
   ]
  }
 ],
 "metadata": {
  "kernelspec": {
   "display_name": "Python 3 (ipykernel)",
   "language": "python",
   "name": "python3"
  },
  "language_info": {
   "codemirror_mode": {
    "name": "ipython",
    "version": 3
   },
   "file_extension": ".py",
   "mimetype": "text/x-python",
   "name": "python",
   "nbconvert_exporter": "python",
   "pygments_lexer": "ipython3",
   "version": "3.8.12"
  }
 },
 "nbformat": 4,
 "nbformat_minor": 5
}
