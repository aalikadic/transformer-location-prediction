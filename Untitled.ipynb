{
 "cells": [
  {
   "cell_type": "code",
   "execution_count": 1,
   "id": "84dcee6e",
   "metadata": {},
   "outputs": [],
   "source": [
    "import torch"
   ]
  },
  {
   "cell_type": "code",
   "execution_count": 4,
   "id": "f78bac9e",
   "metadata": {},
   "outputs": [],
   "source": [
    "target_c = torch.zeros((100, 11, 49))"
   ]
  },
  {
   "cell_type": "code",
   "execution_count": 5,
   "id": "cd8cb20d",
   "metadata": {},
   "outputs": [
    {
     "data": {
      "text/plain": [
       "torch.Size([100, 11, 49])"
      ]
     },
     "execution_count": 5,
     "metadata": {},
     "output_type": "execute_result"
    }
   ],
   "source": [
    "target_c.shape"
   ]
  },
  {
   "cell_type": "code",
   "execution_count": null,
   "id": "44fa37c3",
   "metadata": {},
   "outputs": [],
   "source": [
    "start_of_seq = (\n",
    "                torch.Tensor([0, 0, 1])\n",
    "                .unsqueeze(0)\n",
    "                .unsqueeze(1)\n",
    "                .repeat(target.shape[0], 1, 1)\n",
    "                .to(device)\n",
    "            )"
   ]
  },
  {
   "cell_type": "code",
   "execution_count": 6,
   "id": "68d86a4f",
   "metadata": {},
   "outputs": [],
   "source": [
    "t = torch.Tensor([0, 0, 1])"
   ]
  },
  {
   "cell_type": "code",
   "execution_count": 7,
   "id": "125d1fdc",
   "metadata": {},
   "outputs": [
    {
     "data": {
      "text/plain": [
       "torch.Size([3])"
      ]
     },
     "execution_count": 7,
     "metadata": {},
     "output_type": "execute_result"
    }
   ],
   "source": [
    "t.shape"
   ]
  },
  {
   "cell_type": "code",
   "execution_count": 8,
   "id": "f00a18e2",
   "metadata": {},
   "outputs": [
    {
     "data": {
      "text/plain": [
       "tensor([[0., 0., 1.]])"
      ]
     },
     "execution_count": 8,
     "metadata": {},
     "output_type": "execute_result"
    }
   ],
   "source": [
    "t.unsqueeze(0)"
   ]
  },
  {
   "cell_type": "code",
   "execution_count": 9,
   "id": "6c0c0cda",
   "metadata": {},
   "outputs": [
    {
     "data": {
      "text/plain": [
       "tensor([[0.],\n",
       "        [0.],\n",
       "        [1.]])"
      ]
     },
     "execution_count": 9,
     "metadata": {},
     "output_type": "execute_result"
    }
   ],
   "source": [
    "t.unsqueeze(1)"
   ]
  },
  {
   "cell_type": "code",
   "execution_count": 10,
   "id": "7cf498e6",
   "metadata": {},
   "outputs": [
    {
     "data": {
      "text/plain": [
       "tensor([[[0., 0., 1.]],\n",
       "\n",
       "        [[0., 0., 1.]],\n",
       "\n",
       "        [[0., 0., 1.]],\n",
       "\n",
       "        [[0., 0., 1.]],\n",
       "\n",
       "        [[0., 0., 1.]],\n",
       "\n",
       "        [[0., 0., 1.]],\n",
       "\n",
       "        [[0., 0., 1.]],\n",
       "\n",
       "        [[0., 0., 1.]],\n",
       "\n",
       "        [[0., 0., 1.]],\n",
       "\n",
       "        [[0., 0., 1.]],\n",
       "\n",
       "        [[0., 0., 1.]],\n",
       "\n",
       "        [[0., 0., 1.]],\n",
       "\n",
       "        [[0., 0., 1.]],\n",
       "\n",
       "        [[0., 0., 1.]],\n",
       "\n",
       "        [[0., 0., 1.]],\n",
       "\n",
       "        [[0., 0., 1.]],\n",
       "\n",
       "        [[0., 0., 1.]],\n",
       "\n",
       "        [[0., 0., 1.]],\n",
       "\n",
       "        [[0., 0., 1.]],\n",
       "\n",
       "        [[0., 0., 1.]],\n",
       "\n",
       "        [[0., 0., 1.]],\n",
       "\n",
       "        [[0., 0., 1.]],\n",
       "\n",
       "        [[0., 0., 1.]],\n",
       "\n",
       "        [[0., 0., 1.]],\n",
       "\n",
       "        [[0., 0., 1.]],\n",
       "\n",
       "        [[0., 0., 1.]],\n",
       "\n",
       "        [[0., 0., 1.]],\n",
       "\n",
       "        [[0., 0., 1.]],\n",
       "\n",
       "        [[0., 0., 1.]],\n",
       "\n",
       "        [[0., 0., 1.]],\n",
       "\n",
       "        [[0., 0., 1.]],\n",
       "\n",
       "        [[0., 0., 1.]],\n",
       "\n",
       "        [[0., 0., 1.]],\n",
       "\n",
       "        [[0., 0., 1.]],\n",
       "\n",
       "        [[0., 0., 1.]],\n",
       "\n",
       "        [[0., 0., 1.]],\n",
       "\n",
       "        [[0., 0., 1.]],\n",
       "\n",
       "        [[0., 0., 1.]],\n",
       "\n",
       "        [[0., 0., 1.]],\n",
       "\n",
       "        [[0., 0., 1.]],\n",
       "\n",
       "        [[0., 0., 1.]],\n",
       "\n",
       "        [[0., 0., 1.]],\n",
       "\n",
       "        [[0., 0., 1.]],\n",
       "\n",
       "        [[0., 0., 1.]],\n",
       "\n",
       "        [[0., 0., 1.]],\n",
       "\n",
       "        [[0., 0., 1.]],\n",
       "\n",
       "        [[0., 0., 1.]],\n",
       "\n",
       "        [[0., 0., 1.]],\n",
       "\n",
       "        [[0., 0., 1.]],\n",
       "\n",
       "        [[0., 0., 1.]],\n",
       "\n",
       "        [[0., 0., 1.]],\n",
       "\n",
       "        [[0., 0., 1.]],\n",
       "\n",
       "        [[0., 0., 1.]],\n",
       "\n",
       "        [[0., 0., 1.]],\n",
       "\n",
       "        [[0., 0., 1.]],\n",
       "\n",
       "        [[0., 0., 1.]],\n",
       "\n",
       "        [[0., 0., 1.]],\n",
       "\n",
       "        [[0., 0., 1.]],\n",
       "\n",
       "        [[0., 0., 1.]],\n",
       "\n",
       "        [[0., 0., 1.]],\n",
       "\n",
       "        [[0., 0., 1.]],\n",
       "\n",
       "        [[0., 0., 1.]],\n",
       "\n",
       "        [[0., 0., 1.]],\n",
       "\n",
       "        [[0., 0., 1.]],\n",
       "\n",
       "        [[0., 0., 1.]],\n",
       "\n",
       "        [[0., 0., 1.]],\n",
       "\n",
       "        [[0., 0., 1.]],\n",
       "\n",
       "        [[0., 0., 1.]],\n",
       "\n",
       "        [[0., 0., 1.]],\n",
       "\n",
       "        [[0., 0., 1.]],\n",
       "\n",
       "        [[0., 0., 1.]],\n",
       "\n",
       "        [[0., 0., 1.]],\n",
       "\n",
       "        [[0., 0., 1.]],\n",
       "\n",
       "        [[0., 0., 1.]],\n",
       "\n",
       "        [[0., 0., 1.]],\n",
       "\n",
       "        [[0., 0., 1.]],\n",
       "\n",
       "        [[0., 0., 1.]],\n",
       "\n",
       "        [[0., 0., 1.]],\n",
       "\n",
       "        [[0., 0., 1.]],\n",
       "\n",
       "        [[0., 0., 1.]],\n",
       "\n",
       "        [[0., 0., 1.]],\n",
       "\n",
       "        [[0., 0., 1.]],\n",
       "\n",
       "        [[0., 0., 1.]],\n",
       "\n",
       "        [[0., 0., 1.]],\n",
       "\n",
       "        [[0., 0., 1.]],\n",
       "\n",
       "        [[0., 0., 1.]],\n",
       "\n",
       "        [[0., 0., 1.]],\n",
       "\n",
       "        [[0., 0., 1.]],\n",
       "\n",
       "        [[0., 0., 1.]],\n",
       "\n",
       "        [[0., 0., 1.]],\n",
       "\n",
       "        [[0., 0., 1.]],\n",
       "\n",
       "        [[0., 0., 1.]],\n",
       "\n",
       "        [[0., 0., 1.]],\n",
       "\n",
       "        [[0., 0., 1.]],\n",
       "\n",
       "        [[0., 0., 1.]],\n",
       "\n",
       "        [[0., 0., 1.]],\n",
       "\n",
       "        [[0., 0., 1.]],\n",
       "\n",
       "        [[0., 0., 1.]],\n",
       "\n",
       "        [[0., 0., 1.]],\n",
       "\n",
       "        [[0., 0., 1.]]])"
      ]
     },
     "execution_count": 10,
     "metadata": {},
     "output_type": "execute_result"
    }
   ],
   "source": [
    "t.repeat(100, 1, 1)"
   ]
  }
 ],
 "metadata": {
  "kernelspec": {
   "display_name": "Python 3 (ipykernel)",
   "language": "python",
   "name": "python3"
  },
  "language_info": {
   "codemirror_mode": {
    "name": "ipython",
    "version": 3
   },
   "file_extension": ".py",
   "mimetype": "text/x-python",
   "name": "python",
   "nbconvert_exporter": "python",
   "pygments_lexer": "ipython3",
   "version": "3.8.12"
  }
 },
 "nbformat": 4,
 "nbformat_minor": 5
}
