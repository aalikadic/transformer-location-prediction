{
 "cells": [
  {
   "cell_type": "code",
   "execution_count": 1,
   "id": "4ecac265",
   "metadata": {},
   "outputs": [],
   "source": [
    "import pandas as pd\n",
    "import json\n",
    "from os import listdir\n",
    "\n",
    "\n",
    "desired_length = 1\n"
   ]
  },
  {
   "cell_type": "code",
   "execution_count": 2,
   "id": "1baab0a9",
   "metadata": {},
   "outputs": [
    {
     "name": "stderr",
     "output_type": "stream",
     "text": [
      "C:\\Users\\alika\\AppData\\Local\\Temp/ipykernel_24572/868456038.py:19: SettingWithCopyWarning: \n",
      "A value is trying to be set on a copy of a slice from a DataFrame.\n",
      "Try using .loc[row_indexer,col_indexer] = value instead\n",
      "\n",
      "See the caveats in the documentation: https://pandas.pydata.org/pandas-docs/stable/user_guide/indexing.html#returning-a-view-versus-a-copy\n",
      "  temp_df['next_frame_position_x'] = temp_df['position_x'].shift(-1)\n",
      "C:\\Users\\alika\\AppData\\Local\\Temp/ipykernel_24572/868456038.py:20: SettingWithCopyWarning: \n",
      "A value is trying to be set on a copy of a slice from a DataFrame.\n",
      "Try using .loc[row_indexer,col_indexer] = value instead\n",
      "\n",
      "See the caveats in the documentation: https://pandas.pydata.org/pandas-docs/stable/user_guide/indexing.html#returning-a-view-versus-a-copy\n",
      "  temp_df['next_frame_position_y'] = temp_df['position_y'].shift(-1)\n"
     ]
    }
   ],
   "source": [
    "complete_df = pd.DataFrame()\n",
    "merged = listdir(\"merged_csv/train\")\n",
    "for json_object in merged:\n",
    "    file_loc = \"merged_csv/train/\"\n",
    "    \n",
    "    df = pd.read_csv(file_loc + json_object)\n",
    "    \n",
    "    unique_values = df['person_id'].unique()\n",
    "    value_counts = df['person_id'].value_counts()\n",
    "    \n",
    "    good_ids = []\n",
    "    for count,id in enumerate(unique_values):\n",
    "        if(value_counts[id] > desired_length):\n",
    "            good_ids.append(id)\n",
    "            \n",
    "    for id in good_ids:\n",
    "        temp_df = pd.DataFrame()\n",
    "        temp_df = df[df['person_id'] == id]\n",
    "        temp_df['next_frame_position_x'] = temp_df['position_x'].shift(-1)\n",
    "        temp_df['next_frame_position_y'] = temp_df['position_y'].shift(-1)\n",
    "    \n",
    "        complete_df = pd.concat([complete_df, temp_df], ignore_index = True)\n",
    "        \n",
    "file_name = 'complete_train_data_' + str(desired_length) + '_frames.csv'\n",
    "\n",
    "complete_df = complete_df.dropna()\n",
    "complete_df.to_csv(file_name) "
   ]
  },
  {
   "cell_type": "code",
   "execution_count": 3,
   "id": "0bbfe6a8",
   "metadata": {},
   "outputs": [
    {
     "name": "stderr",
     "output_type": "stream",
     "text": [
      "C:\\Users\\alika\\AppData\\Local\\Temp/ipykernel_24572/3299583404.py:19: SettingWithCopyWarning: \n",
      "A value is trying to be set on a copy of a slice from a DataFrame.\n",
      "Try using .loc[row_indexer,col_indexer] = value instead\n",
      "\n",
      "See the caveats in the documentation: https://pandas.pydata.org/pandas-docs/stable/user_guide/indexing.html#returning-a-view-versus-a-copy\n",
      "  temp_df['next_frame_position_x'] = temp_df['position_x'].shift(-1)\n",
      "C:\\Users\\alika\\AppData\\Local\\Temp/ipykernel_24572/3299583404.py:20: SettingWithCopyWarning: \n",
      "A value is trying to be set on a copy of a slice from a DataFrame.\n",
      "Try using .loc[row_indexer,col_indexer] = value instead\n",
      "\n",
      "See the caveats in the documentation: https://pandas.pydata.org/pandas-docs/stable/user_guide/indexing.html#returning-a-view-versus-a-copy\n",
      "  temp_df['next_frame_position_y'] = temp_df['position_y'].shift(-1)\n"
     ]
    }
   ],
   "source": [
    "complete_df = pd.DataFrame()\n",
    "merged = listdir(\"merged_csv/test\")\n",
    "for json_object in merged:\n",
    "    file_loc = \"merged_csv/test/\"\n",
    "    \n",
    "    df = pd.read_csv(file_loc + json_object)\n",
    "    \n",
    "    unique_values = df['person_id'].unique()\n",
    "    value_counts = df['person_id'].value_counts()\n",
    "    \n",
    "    good_ids = []\n",
    "    for count,id in enumerate(unique_values):\n",
    "        if(value_counts[id] > desired_length):\n",
    "            good_ids.append(id)\n",
    "            \n",
    "    for id in good_ids:\n",
    "        temp_df = pd.DataFrame()\n",
    "        temp_df = df[df['person_id'] == id]\n",
    "        temp_df['next_frame_position_x'] = temp_df['position_x'].shift(-1)\n",
    "        temp_df['next_frame_position_y'] = temp_df['position_y'].shift(-1)\n",
    "    \n",
    "        complete_df = pd.concat([complete_df, temp_df], ignore_index = True)\n",
    "        \n",
    "file_name = 'complete_test_data_' + str(desired_length) + '_frames.csv'\n",
    "\n",
    "complete_df = complete_df.dropna()\n",
    "complete_df.to_csv(file_name) "
   ]
  },
  {
   "cell_type": "code",
   "execution_count": 4,
   "id": "01335c25",
   "metadata": {},
   "outputs": [
    {
     "name": "stderr",
     "output_type": "stream",
     "text": [
      "C:\\Users\\alika\\AppData\\Local\\Temp/ipykernel_5872/1921762472.py:19: SettingWithCopyWarning: \n",
      "A value is trying to be set on a copy of a slice from a DataFrame.\n",
      "Try using .loc[row_indexer,col_indexer] = value instead\n",
      "\n",
      "See the caveats in the documentation: https://pandas.pydata.org/pandas-docs/stable/user_guide/indexing.html#returning-a-view-versus-a-copy\n",
      "  temp_df['next_frame_position_x'] = temp_df['position_x'].shift(-1)\n",
      "C:\\Users\\alika\\AppData\\Local\\Temp/ipykernel_5872/1921762472.py:20: SettingWithCopyWarning: \n",
      "A value is trying to be set on a copy of a slice from a DataFrame.\n",
      "Try using .loc[row_indexer,col_indexer] = value instead\n",
      "\n",
      "See the caveats in the documentation: https://pandas.pydata.org/pandas-docs/stable/user_guide/indexing.html#returning-a-view-versus-a-copy\n",
      "  temp_df['next_frame_position_y'] = temp_df['position_y'].shift(-1)\n"
     ]
    }
   ],
   "source": [
    "complete_df = pd.DataFrame()\n",
    "merged = listdir(\"merged_csv/val\")\n",
    "for json_object in merged:\n",
    "    file_loc = \"merged_csv/val/\"\n",
    "    \n",
    "    df = pd.read_csv(file_loc + json_object)\n",
    "    \n",
    "    unique_values = df['person_id'].unique()\n",
    "    value_counts = df['person_id'].value_counts()\n",
    "    \n",
    "    good_ids = []\n",
    "    for count,id in enumerate(unique_values):\n",
    "        if(value_counts[id] > desired_length):\n",
    "            good_ids.append(id)\n",
    "            \n",
    "    for id in good_ids:\n",
    "        temp_df = pd.DataFrame()\n",
    "        temp_df = df[df['person_id'] == id]\n",
    "        temp_df['next_frame_position_x'] = temp_df['position_x'].shift(-1)\n",
    "        temp_df['next_frame_position_y'] = temp_df['position_y'].shift(-1)\n",
    "    \n",
    "        complete_df = pd.concat([complete_df, temp_df], ignore_index = True)\n",
    "        \n",
    "file_name = 'complete_val_data_' + str(desired_length) + '_frames.csv'\n",
    "\n",
    "complete_df = complete_df.dropna()\n",
    "complete_df.to_csv(file_name) "
   ]
  },
  {
   "cell_type": "code",
   "execution_count": null,
   "id": "c55354cf",
   "metadata": {},
   "outputs": [],
   "source": []
  }
 ],
 "metadata": {
  "kernelspec": {
   "display_name": "Python 3 (ipykernel)",
   "language": "python",
   "name": "python3"
  },
  "language_info": {
   "codemirror_mode": {
    "name": "ipython",
    "version": 3
   },
   "file_extension": ".py",
   "mimetype": "text/x-python",
   "name": "python",
   "nbconvert_exporter": "python",
   "pygments_lexer": "ipython3",
   "version": "3.8.12"
  }
 },
 "nbformat": 4,
 "nbformat_minor": 5
}
