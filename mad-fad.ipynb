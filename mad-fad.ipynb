{
 "cells": [
  {
   "cell_type": "code",
   "execution_count": 1,
   "id": "12b059f5",
   "metadata": {},
   "outputs": [],
   "source": [
    "import numpy as np\n",
    "from scipy import spatial\n",
    "def distance_metrics(gt, preds):\n",
    "    errors = np.zeros(gt.shape[:-1])\n",
    "\n",
    "    for i in range(errors.shape[0]):\n",
    "        for j in range(errors.shape[1]):\n",
    "            errors[i, j] = spatial.distance.euclidean(gt[i, j], preds[i, j])\n",
    "    return errors.mean(), errors[:, -1].mean(), errors"
   ]
  },
  {
   "cell_type": "code",
   "execution_count": 2,
   "id": "6272677a",
   "metadata": {},
   "outputs": [],
   "source": [
    "gt = np.load(\"gt.npy\")\n",
    "pr = np.load(\"pr.npy\")"
   ]
  },
  {
   "cell_type": "code",
   "execution_count": 3,
   "id": "f07f644b",
   "metadata": {},
   "outputs": [
    {
     "data": {
      "text/plain": [
       "(453, 12, 2)"
      ]
     },
     "execution_count": 3,
     "metadata": {},
     "output_type": "execute_result"
    }
   ],
   "source": [
    "pr.shape"
   ]
  },
  {
   "cell_type": "code",
   "execution_count": 4,
   "id": "8934d4e6",
   "metadata": {},
   "outputs": [
    {
     "data": {
      "text/plain": [
       "array([[ 722.4613 ,  965.9904 ],\n",
       "       [ 776.13367, 1463.956  ],\n",
       "       [ 828.45514, 1970.9204 ],\n",
       "       [ 880.4758 , 2482.3345 ],\n",
       "       [ 932.46545, 2996.78   ],\n",
       "       [ 984.5203 , 3513.6833 ],\n",
       "       [1036.6637 , 4032.2764 ],\n",
       "       [1088.8835 , 4551.402  ],\n",
       "       [1141.1608 , 5069.8906 ],\n",
       "       [1193.4752 , 5587.1353 ],\n",
       "       [1245.811  , 6103.399  ],\n",
       "       [1298.168  , 6619.563  ]], dtype=float32)"
      ]
     },
     "execution_count": 4,
     "metadata": {},
     "output_type": "execute_result"
    }
   ],
   "source": [
    "pr[0]"
   ]
  },
  {
   "cell_type": "code",
   "execution_count": 6,
   "id": "ecf70d53",
   "metadata": {},
   "outputs": [
    {
     "data": {
      "text/plain": [
       "array([[646.5135, 486.1675],\n",
       "       [641.2625, 491.468 ],\n",
       "       [613.9385, 488.8855],\n",
       "       [593.0585, 488.8275],\n",
       "       [591.6685, 488.867 ],\n",
       "       [612.5685, 467.956 ],\n",
       "       [609.991 , 483.5745],\n",
       "       [590.4215, 509.6775],\n",
       "       [576.1635, 509.613 ],\n",
       "       [561.793 , 511.0265],\n",
       "       [530.4155, 492.748 ],\n",
       "       [503.129 , 512.2875]], dtype=float32)"
      ]
     },
     "execution_count": 6,
     "metadata": {},
     "output_type": "execute_result"
    }
   ],
   "source": [
    "gt[0]"
   ]
  },
  {
   "cell_type": "code",
   "execution_count": 9,
   "id": "f487c611",
   "metadata": {},
   "outputs": [],
   "source": [
    "mad, fad, errs = distance_metrics(gt, pr)"
   ]
  },
  {
   "cell_type": "code",
   "execution_count": 13,
   "id": "be8e1360",
   "metadata": {},
   "outputs": [
    {
     "data": {
      "text/plain": [
       "array([[  485.7963562 ,   981.79589844,  1497.47949219, ...,\n",
       "         5115.26171875,  5656.07568359,  6158.80664062],\n",
       "       [  457.22381592,   945.09729004,  1431.31933594, ...,\n",
       "         4890.37304688,  5388.56640625,  5893.06787109],\n",
       "       [  909.46362305,  1800.53100586,  2682.97265625, ...,\n",
       "         8844.94433594,  9721.73242188, 10577.42285156],\n",
       "       ...,\n",
       "       [  506.41168213,  1072.64526367,  1648.99267578, ...,\n",
       "         5763.41748047,  6334.21582031,  6895.34375   ],\n",
       "       [  737.90405273,  1448.33789062,  2175.23901367, ...,\n",
       "         7232.11181641,  7953.62402344,  8680.29003906],\n",
       "       [  530.86157227,  1096.34313965,  1644.92553711, ...,\n",
       "         5513.43847656,  6105.80517578,  6683.578125  ]])"
      ]
     },
     "execution_count": 13,
     "metadata": {},
     "output_type": "execute_result"
    }
   ],
   "source": [
    "errs"
   ]
  }
 ],
 "metadata": {
  "kernelspec": {
   "display_name": "Python 3 (ipykernel)",
   "language": "python",
   "name": "python3"
  },
  "language_info": {
   "codemirror_mode": {
    "name": "ipython",
    "version": 3
   },
   "file_extension": ".py",
   "mimetype": "text/x-python",
   "name": "python",
   "nbconvert_exporter": "python",
   "pygments_lexer": "ipython3",
   "version": "3.8.12"
  }
 },
 "nbformat": 4,
 "nbformat_minor": 5
}
