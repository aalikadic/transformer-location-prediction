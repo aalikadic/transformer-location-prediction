{
 "cells": [
  {
   "cell_type": "code",
   "execution_count": 13,
   "id": "2ec6785c",
   "metadata": {},
   "outputs": [],
   "source": [
    "import pandas as pd\n",
    "import numpy as np"
   ]
  },
  {
   "cell_type": "code",
   "execution_count": 14,
   "id": "0e49414c",
   "metadata": {},
   "outputs": [],
   "source": [
    "train_df = pd.read_csv(\"complete_train_data_1_frames.csv\")\n",
    "test_df = pd.read_csv(\"complete_test_data_1_frames.csv\")\n",
    "val_df = pd.read_csv(\"complete_val_data_1_frames.csv\")"
   ]
  },
  {
   "cell_type": "code",
   "execution_count": 7,
   "id": "f2804658",
   "metadata": {},
   "outputs": [],
   "source": [
    "#df = pd.read_csv(\"complete_data_10_frames.csv\")\n",
    "#new_df = df[[\"person_id\", \"frame_id\", \"position_x\", \"position_y\"]].copy()\n",
    "#new_df[\"person_id\"] = new_df[\"person_id\"]*10\n",
    "#new_df.to_csv('10_frames_complete.txt',sep='\\t',index=False,header=False)"
   ]
  },
  {
   "cell_type": "code",
   "execution_count": 15,
   "id": "78656e7e",
   "metadata": {},
   "outputs": [],
   "source": [
    "train = train_df[[\"person_id\", \"frame_id\", \"position_x\", \"position_y\"]].copy()\n",
    "train[\"person_id\"] = train[\"person_id\"]*10\n",
    "train[\"person_id\"] = train[\"person_id\"].astype(np.float64)\n",
    "train[\"frame_id\"] = train[\"frame_id\"].astype(np.float64)\n",
    "\n",
    "\n",
    "test = test_df[[\"person_id\", \"frame_id\", \"position_x\", \"position_y\"]].copy()\n",
    "test[\"person_id\"] = test[\"person_id\"]*10\n",
    "test[\"person_id\"] = test[\"person_id\"].astype(np.float64)\n",
    "test[\"frame_id\"] = test[\"frame_id\"].astype(np.float64)\n",
    "\n",
    "val = val_df[[\"person_id\", \"frame_id\", \"position_x\", \"position_y\"]].copy()\n",
    "val[\"person_id\"] = val[\"person_id\"]*10\n",
    "val[\"person_id\"] = val[\"person_id\"].astype(np.float64)\n",
    "val[\"frame_id\"] = val[\"frame_id\"].astype(np.float64)"
   ]
  },
  {
   "cell_type": "code",
   "execution_count": 18,
   "id": "f4c656b1",
   "metadata": {},
   "outputs": [
    {
     "data": {
      "text/html": [
       "<div>\n",
       "<style scoped>\n",
       "    .dataframe tbody tr th:only-of-type {\n",
       "        vertical-align: middle;\n",
       "    }\n",
       "\n",
       "    .dataframe tbody tr th {\n",
       "        vertical-align: top;\n",
       "    }\n",
       "\n",
       "    .dataframe thead th {\n",
       "        text-align: right;\n",
       "    }\n",
       "</style>\n",
       "<table border=\"1\" class=\"dataframe\">\n",
       "  <thead>\n",
       "    <tr style=\"text-align: right;\">\n",
       "      <th></th>\n",
       "      <th>person_id</th>\n",
       "      <th>frame_id</th>\n",
       "      <th>position_x</th>\n",
       "      <th>position_y</th>\n",
       "    </tr>\n",
       "  </thead>\n",
       "  <tbody>\n",
       "    <tr>\n",
       "      <th>205</th>\n",
       "      <td>150.0</td>\n",
       "      <td>24.0</td>\n",
       "      <td>874.5740</td>\n",
       "      <td>516.1680</td>\n",
       "    </tr>\n",
       "    <tr>\n",
       "      <th>206</th>\n",
       "      <td>150.0</td>\n",
       "      <td>26.0</td>\n",
       "      <td>937.1525</td>\n",
       "      <td>508.3020</td>\n",
       "    </tr>\n",
       "    <tr>\n",
       "      <th>207</th>\n",
       "      <td>150.0</td>\n",
       "      <td>27.0</td>\n",
       "      <td>976.2365</td>\n",
       "      <td>508.3215</td>\n",
       "    </tr>\n",
       "    <tr>\n",
       "      <th>208</th>\n",
       "      <td>150.0</td>\n",
       "      <td>29.0</td>\n",
       "      <td>1037.5600</td>\n",
       "      <td>552.6730</td>\n",
       "    </tr>\n",
       "    <tr>\n",
       "      <th>209</th>\n",
       "      <td>150.0</td>\n",
       "      <td>30.0</td>\n",
       "      <td>1033.6800</td>\n",
       "      <td>563.0870</td>\n",
       "    </tr>\n",
       "    <tr>\n",
       "      <th>210</th>\n",
       "      <td>150.0</td>\n",
       "      <td>31.0</td>\n",
       "      <td>1012.7350</td>\n",
       "      <td>565.7040</td>\n",
       "    </tr>\n",
       "    <tr>\n",
       "      <th>211</th>\n",
       "      <td>150.0</td>\n",
       "      <td>32.0</td>\n",
       "      <td>1020.6100</td>\n",
       "      <td>555.2615</td>\n",
       "    </tr>\n",
       "    <tr>\n",
       "      <th>212</th>\n",
       "      <td>260.0</td>\n",
       "      <td>41.0</td>\n",
       "      <td>404.0405</td>\n",
       "      <td>376.6580</td>\n",
       "    </tr>\n",
       "    <tr>\n",
       "      <th>213</th>\n",
       "      <td>260.0</td>\n",
       "      <td>42.0</td>\n",
       "      <td>375.4065</td>\n",
       "      <td>376.6590</td>\n",
       "    </tr>\n",
       "    <tr>\n",
       "      <th>214</th>\n",
       "      <td>260.0</td>\n",
       "      <td>44.0</td>\n",
       "      <td>354.5615</td>\n",
       "      <td>370.1645</td>\n",
       "    </tr>\n",
       "    <tr>\n",
       "      <th>215</th>\n",
       "      <td>260.0</td>\n",
       "      <td>46.0</td>\n",
       "      <td>342.7925</td>\n",
       "      <td>405.3340</td>\n",
       "    </tr>\n",
       "    <tr>\n",
       "      <th>216</th>\n",
       "      <td>260.0</td>\n",
       "      <td>47.0</td>\n",
       "      <td>342.8440</td>\n",
       "      <td>427.5070</td>\n",
       "    </tr>\n",
       "    <tr>\n",
       "      <th>217</th>\n",
       "      <td>260.0</td>\n",
       "      <td>48.0</td>\n",
       "      <td>342.8475</td>\n",
       "      <td>441.8080</td>\n",
       "    </tr>\n",
       "    <tr>\n",
       "      <th>218</th>\n",
       "      <td>260.0</td>\n",
       "      <td>36.0</td>\n",
       "      <td>355.7990</td>\n",
       "      <td>398.8540</td>\n",
       "    </tr>\n",
       "    <tr>\n",
       "      <th>219</th>\n",
       "      <td>260.0</td>\n",
       "      <td>37.0</td>\n",
       "      <td>394.9585</td>\n",
       "      <td>402.6865</td>\n",
       "    </tr>\n",
       "    <tr>\n",
       "      <th>220</th>\n",
       "      <td>260.0</td>\n",
       "      <td>38.0</td>\n",
       "      <td>431.4720</td>\n",
       "      <td>385.8630</td>\n",
       "    </tr>\n",
       "    <tr>\n",
       "      <th>221</th>\n",
       "      <td>260.0</td>\n",
       "      <td>39.0</td>\n",
       "      <td>441.8745</td>\n",
       "      <td>368.8705</td>\n",
       "    </tr>\n",
       "    <tr>\n",
       "      <th>222</th>\n",
       "      <td>260.0</td>\n",
       "      <td>49.0</td>\n",
       "      <td>323.2795</td>\n",
       "      <td>439.2235</td>\n",
       "    </tr>\n",
       "    <tr>\n",
       "      <th>223</th>\n",
       "      <td>260.0</td>\n",
       "      <td>50.0</td>\n",
       "      <td>290.5920</td>\n",
       "      <td>430.1775</td>\n",
       "    </tr>\n",
       "    <tr>\n",
       "      <th>224</th>\n",
       "      <td>260.0</td>\n",
       "      <td>51.0</td>\n",
       "      <td>222.9080</td>\n",
       "      <td>439.2185</td>\n",
       "    </tr>\n",
       "  </tbody>\n",
       "</table>\n",
       "</div>"
      ],
      "text/plain": [
       "     person_id  frame_id  position_x  position_y\n",
       "205      150.0      24.0    874.5740    516.1680\n",
       "206      150.0      26.0    937.1525    508.3020\n",
       "207      150.0      27.0    976.2365    508.3215\n",
       "208      150.0      29.0   1037.5600    552.6730\n",
       "209      150.0      30.0   1033.6800    563.0870\n",
       "210      150.0      31.0   1012.7350    565.7040\n",
       "211      150.0      32.0   1020.6100    555.2615\n",
       "212      260.0      41.0    404.0405    376.6580\n",
       "213      260.0      42.0    375.4065    376.6590\n",
       "214      260.0      44.0    354.5615    370.1645\n",
       "215      260.0      46.0    342.7925    405.3340\n",
       "216      260.0      47.0    342.8440    427.5070\n",
       "217      260.0      48.0    342.8475    441.8080\n",
       "218      260.0      36.0    355.7990    398.8540\n",
       "219      260.0      37.0    394.9585    402.6865\n",
       "220      260.0      38.0    431.4720    385.8630\n",
       "221      260.0      39.0    441.8745    368.8705\n",
       "222      260.0      49.0    323.2795    439.2235\n",
       "223      260.0      50.0    290.5920    430.1775\n",
       "224      260.0      51.0    222.9080    439.2185"
      ]
     },
     "execution_count": 18,
     "metadata": {},
     "output_type": "execute_result"
    }
   ],
   "source": [
    "val.tail(20)"
   ]
  },
  {
   "cell_type": "code",
   "execution_count": 4,
   "id": "92691191",
   "metadata": {},
   "outputs": [],
   "source": [
    "train.to_csv('fpl_train_2.txt',sep='\\t',index=False,header=False)\n",
    "test.to_csv('fpl_test.txt',sep='\\t',index=False,header=False)\n",
    "val.to_csv('fpl_val.txt',sep='\\t',index=False,header=False)"
   ]
  },
  {
   "cell_type": "code",
   "execution_count": 22,
   "id": "4ef9bbb3",
   "metadata": {},
   "outputs": [],
   "source": [
    "#test = pd.read_csv('biwi_hotel_val.txt', sep='\\t', header=None)"
   ]
  },
  {
   "cell_type": "code",
   "execution_count": 6,
   "id": "9c05dc93",
   "metadata": {},
   "outputs": [],
   "source": [
    "train_2 = pd.read_csv('fpl_train_2.txt', sep='\\t', header=None)\n",
    "train = pd.read_csv('fpl_train.txt', sep='\\t', header=None)"
   ]
  },
  {
   "cell_type": "code",
   "execution_count": 11,
   "id": "e8a2d03d",
   "metadata": {},
   "outputs": [
    {
     "data": {
      "text/plain": [
       "0     10.000\n",
       "1      3.000\n",
       "2    437.976\n",
       "3    470.594\n",
       "Name: 0, dtype: float64"
      ]
     },
     "execution_count": 11,
     "metadata": {},
     "output_type": "execute_result"
    }
   ],
   "source": [
    "train.iloc[0]"
   ]
  },
  {
   "cell_type": "code",
   "execution_count": 12,
   "id": "1b23b84a",
   "metadata": {},
   "outputs": [
    {
     "data": {
      "text/plain": [
       "0      0.0000\n",
       "1      3.0000\n",
       "2    480.9150\n",
       "3    565.7275\n",
       "Name: 0, dtype: float64"
      ]
     },
     "execution_count": 12,
     "metadata": {},
     "output_type": "execute_result"
    }
   ],
   "source": [
    "train_2.iloc[0]"
   ]
  }
 ],
 "metadata": {
  "kernelspec": {
   "display_name": "Python 3 (ipykernel)",
   "language": "python",
   "name": "python3"
  },
  "language_info": {
   "codemirror_mode": {
    "name": "ipython",
    "version": 3
   },
   "file_extension": ".py",
   "mimetype": "text/x-python",
   "name": "python",
   "nbconvert_exporter": "python",
   "pygments_lexer": "ipython3",
   "version": "3.8.12"
  }
 },
 "nbformat": 4,
 "nbformat_minor": 5
}
