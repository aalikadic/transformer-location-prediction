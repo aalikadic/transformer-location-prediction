{
 "cells": [
  {
   "cell_type": "code",
   "execution_count": 1,
   "id": "2ec6785c",
   "metadata": {},
   "outputs": [],
   "source": [
    "import pandas as pd\n",
    "import numpy as np"
   ]
  },
  {
   "cell_type": "code",
   "execution_count": 2,
   "id": "0e49414c",
   "metadata": {},
   "outputs": [],
   "source": [
    "train_df = pd.read_csv(\"complete_train_data_1_frames.csv\")\n",
    "test_df = pd.read_csv(\"complete_test_data_1_frames.csv\")\n",
    "val_df = pd.read_csv(\"complete_val_data_1_frames.csv\")"
   ]
  },
  {
   "cell_type": "code",
   "execution_count": 7,
   "id": "f2804658",
   "metadata": {},
   "outputs": [],
   "source": [
    "#df = pd.read_csv(\"complete_data_10_frames.csv\")\n",
    "#new_df = df[[\"person_id\", \"frame_id\", \"position_x\", \"position_y\"]].copy()\n",
    "#new_df[\"person_id\"] = new_df[\"person_id\"]*10\n",
    "#new_df.to_csv('10_frames_complete.txt',sep='\\t',index=False,header=False)"
   ]
  },
  {
   "cell_type": "code",
   "execution_count": 3,
   "id": "78656e7e",
   "metadata": {},
   "outputs": [],
   "source": [
    "train = train_df[[\"person_id\", \"frame_id\", \"position_x\", \"position_y\"]].copy()\n",
    "train[\"person_id\"] = train[\"person_id\"]*10\n",
    "train[\"person_id\"] = train[\"person_id\"].astype(np.float64)\n",
    "train[\"frame_id\"] = train[\"frame_id\"].astype(np.float64)\n",
    "\n",
    "\n",
    "test = test_df[[\"person_id\", \"frame_id\", \"position_x\", \"position_y\"]].copy()\n",
    "test[\"person_id\"] = test[\"person_id\"]*10\n",
    "test[\"person_id\"] = test[\"person_id\"].astype(np.float64)\n",
    "test[\"frame_id\"] = test[\"frame_id\"].astype(np.float64)\n",
    "\n",
    "val = val_df[[\"person_id\", \"frame_id\", \"position_x\", \"position_y\"]].copy()\n",
    "val[\"person_id\"] = val[\"person_id\"]*10\n",
    "val[\"person_id\"] = val[\"person_id\"].astype(np.float64)\n",
    "val[\"frame_id\"] = val[\"frame_id\"].astype(np.float64)"
   ]
  },
  {
   "cell_type": "code",
   "execution_count": 4,
   "id": "92691191",
   "metadata": {},
   "outputs": [],
   "source": [
    "train.to_csv('fpl_train_2.txt',sep='\\t',index=False,header=False)\n",
    "test.to_csv('fpl_test.txt',sep='\\t',index=False,header=False)\n",
    "val.to_csv('fpl_val.txt',sep='\\t',index=False,header=False)"
   ]
  },
  {
   "cell_type": "code",
   "execution_count": 22,
   "id": "4ef9bbb3",
   "metadata": {},
   "outputs": [],
   "source": [
    "#test = pd.read_csv('biwi_hotel_val.txt', sep='\\t', header=None)"
   ]
  },
  {
   "cell_type": "code",
   "execution_count": null,
   "id": "341a3032",
   "metadata": {},
   "outputs": [],
   "source": [
    "train = pd.read('fpl_')"
   ]
  }
 ],
 "metadata": {
  "kernelspec": {
   "display_name": "Python 3 (ipykernel)",
   "language": "python",
   "name": "python3"
  },
  "language_info": {
   "codemirror_mode": {
    "name": "ipython",
    "version": 3
   },
   "file_extension": ".py",
   "mimetype": "text/x-python",
   "name": "python",
   "nbconvert_exporter": "python",
   "pygments_lexer": "ipython3",
   "version": "3.8.12"
  }
 },
 "nbformat": 4,
 "nbformat_minor": 5
}
