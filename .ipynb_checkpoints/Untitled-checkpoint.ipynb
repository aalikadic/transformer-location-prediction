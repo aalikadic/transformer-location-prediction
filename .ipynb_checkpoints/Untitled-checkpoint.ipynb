{
 "cells": [
  {
   "cell_type": "code",
   "execution_count": 1,
   "id": "84dcee6e",
   "metadata": {},
   "outputs": [],
   "source": [
    "import torch"
   ]
  },
  {
   "cell_type": "code",
   "execution_count": null,
   "id": "25f57e43",
   "metadata": {},
   "outputs": [],
   "source": [
    "mean\n",
    "tensor([ 9.7466e+01,  9.6000e+02,  5.8582e+02,  3.6874e+02,  5.5215e+02,\n",
    "         4.4997e+02,  1.5021e+01,  1.1669e+01,  5.9898e+02,  6.4646e+02,\n",
    "         5.2205e+02,  4.5616e+02,  5.9194e+02,  5.0962e+02,  5.9565e+02,\n",
    "         5.8012e+02,  5.6873e+02,  4.0401e+02,  6.1176e+02,  4.1227e+02,\n",
    "         1.9161e+01,  1.4741e+01,  6.3014e+02,  3.7802e+02,  6.5032e+02,\n",
    "         4.5271e+02,  4.7724e+00,  3.1884e+00,  6.2713e+02,  6.4431e+02,\n",
    "         5.7638e+02,  4.2540e+02,  6.3297e+02,  5.0888e+02,  6.3060e+02,\n",
    "         5.7906e+02,  6.4413e+02,  4.1235e+02,  8.0000e-01,  1.2800e+03,\n",
    "        -1.1082e-04,  2.0680e-04, -9.1286e-02, -7.5234e-05,  8.3697e-04,\n",
    "         4.4004e-04,  6.6184e+00, -7.5221e-01])"
   ]
  },
  {
   "cell_type": "code",
   "execution_count": null,
   "id": "d63a46d4",
   "metadata": {},
   "outputs": [],
   "source": []
  }
 ],
 "metadata": {
  "kernelspec": {
   "display_name": "Python 3 (ipykernel)",
   "language": "python",
   "name": "python3"
  },
  "language_info": {
   "codemirror_mode": {
    "name": "ipython",
    "version": 3
   },
   "file_extension": ".py",
   "mimetype": "text/x-python",
   "name": "python",
   "nbconvert_exporter": "python",
   "pygments_lexer": "ipython3",
   "version": "3.8.12"
  }
 },
 "nbformat": 4,
 "nbformat_minor": 5
}
